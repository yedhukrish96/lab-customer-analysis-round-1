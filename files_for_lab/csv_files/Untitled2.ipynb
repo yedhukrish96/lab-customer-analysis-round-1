{
 "cells": [
  {
   "cell_type": "code",
   "execution_count": null,
   "id": "55a00bb5",
   "metadata": {},
   "outputs": [],
   "source": [
    "#Commands cheats-\n",
    "\n",
    "1. # To delete columns from the data-\n",
    "df= df.drop(['col1', 'col2'])\n",
    "\n",
    "\n",
    "2. #to convert from percentages and to convert into numerical value-\n",
    "df['col'] = df['col'].str.rstrip('%').astype('float') / 100.0 \n",
    "\n",
    "\n",
    "3. #checking for duplicate values in data-\n",
    "duplicates= df.duplicated()\n",
    "duplicates.sum()\n",
    "\n",
    "4.#then deleting the duplicated values-\n",
    "df= df.drop_duplicates()\n",
    "df\n"
   ]
  }
 ],
 "metadata": {
  "kernelspec": {
   "display_name": "Python 3 (ipykernel)",
   "language": "python",
   "name": "python3"
  },
  "language_info": {
   "codemirror_mode": {
    "name": "ipython",
    "version": 3
   },
   "file_extension": ".py",
   "mimetype": "text/x-python",
   "name": "python",
   "nbconvert_exporter": "python",
   "pygments_lexer": "ipython3",
   "version": "3.9.13"
  }
 },
 "nbformat": 4,
 "nbformat_minor": 5
}
